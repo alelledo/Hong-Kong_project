{
 "cells": [
  {
   "cell_type": "markdown",
   "metadata": {},
   "source": [
    "## Load data and libraries"
   ]
  },
  {
   "cell_type": "code",
   "execution_count": 1,
   "metadata": {},
   "outputs": [],
   "source": [
    "import pandas as pd\n",
    "import os\n",
    "import numpy as np "
   ]
  },
  {
   "cell_type": "code",
   "execution_count": 2,
   "metadata": {},
   "outputs": [],
   "source": [
    "# Directory where your CSV files are located\n",
    "directory = '/Users/alejandrovillanuevalledo/Documents/GitHub/Hong-Kong_project/CSV'\n",
    "\n",
    "# Iterate over each file in the directory\n",
    "for filename in os.listdir(directory):\n",
    "    if filename.endswith(\".csv\"):  # Check if the file is a CSV file\n",
    "        file_path = os.path.join(directory, filename)  # Get the full file path\n",
    "        # Read the CSV file and create a DataFrame with a variable name based on the filename (without extension)\n",
    "        dataframe_name = os.path.splitext(filename)[0]  # Extract the filename without extension\n",
    "        globals()[dataframe_name] = pd.read_csv(file_path)\n",
    "\n",
    "# Now you have separate DataFrame variables named after the filenames (without extension)\n",
    "# For example, if you have a file 'calendar.csv', you can access its DataFrame using 'calendar' variable\n",
    "# Similarly, if you have a file 'listings.csv', you can access its DataFrame using 'listings' variable\n"
   ]
  },
  {
   "cell_type": "code",
   "execution_count": 3,
   "metadata": {},
   "outputs": [],
   "source": [
    "#listing_2 = pd.read_csv('/Users/alejandrovillanuevalledo/Documents/GitHub/Hong-Kong_project/CSV/listings-2.csv')"
   ]
  },
  {
   "cell_type": "code",
   "execution_count": 4,
   "metadata": {},
   "outputs": [],
   "source": [
    "#listing_2.columns"
   ]
  },
  {
   "cell_type": "code",
   "execution_count": 5,
   "metadata": {},
   "outputs": [
    {
     "data": {
      "text/plain": [
       "Index(['id', 'listing_url', 'scrape_id', 'last_scraped', 'source', 'name',\n",
       "       'description', 'neighborhood_overview', 'picture_url', 'host_id',\n",
       "       'host_url', 'host_name', 'host_since', 'host_location', 'host_about',\n",
       "       'host_response_time', 'host_response_rate', 'host_acceptance_rate',\n",
       "       'host_is_superhost', 'host_thumbnail_url', 'host_picture_url',\n",
       "       'host_neighbourhood', 'host_listings_count',\n",
       "       'host_total_listings_count', 'host_verifications',\n",
       "       'host_has_profile_pic', 'host_identity_verified', 'neighbourhood',\n",
       "       'neighbourhood_cleansed', 'neighbourhood_group_cleansed', 'latitude',\n",
       "       'longitude', 'property_type', 'room_type', 'accommodates', 'bathrooms',\n",
       "       'bathrooms_text', 'bedrooms', 'beds', 'amenities', 'price',\n",
       "       'minimum_nights', 'maximum_nights', 'minimum_minimum_nights',\n",
       "       'maximum_minimum_nights', 'minimum_maximum_nights',\n",
       "       'maximum_maximum_nights', 'minimum_nights_avg_ntm',\n",
       "       'maximum_nights_avg_ntm', 'calendar_updated', 'has_availability',\n",
       "       'availability_30', 'availability_60', 'availability_90',\n",
       "       'availability_365', 'calendar_last_scraped', 'number_of_reviews',\n",
       "       'number_of_reviews_ltm', 'number_of_reviews_l30d', 'first_review',\n",
       "       'last_review', 'review_scores_rating', 'review_scores_accuracy',\n",
       "       'review_scores_cleanliness', 'review_scores_checkin',\n",
       "       'review_scores_communication', 'review_scores_location',\n",
       "       'review_scores_value', 'license', 'instant_bookable',\n",
       "       'calculated_host_listings_count',\n",
       "       'calculated_host_listings_count_entire_homes',\n",
       "       'calculated_host_listings_count_private_rooms',\n",
       "       'calculated_host_listings_count_shared_rooms', 'reviews_per_month'],\n",
       "      dtype='object')"
      ]
     },
     "execution_count": 5,
     "metadata": {},
     "output_type": "execute_result"
    }
   ],
   "source": [
    "listings.columns"
   ]
  },
  {
   "cell_type": "code",
   "execution_count": 6,
   "metadata": {},
   "outputs": [],
   "source": [
    "colums_to_drop = ['listing_url', 'scrape_id', 'last_scraped', 'source','picture_url','host_url', 'host_thumbnail_url', 'host_picture_url','neighbourhood_cleansed', 'neighbourhood_group_cleansed', 'latitude',\n",
    "'longitude','bathrooms', 'amenities','calendar_updated','calendar_last_scraped']\n",
    "listings = listings.drop(columns= colums_to_drop)"
   ]
  },
  {
   "cell_type": "code",
   "execution_count": 7,
   "metadata": {},
   "outputs": [
    {
     "data": {
      "text/plain": [
       "'# Find columns that are unique to df1\\nunique_to_df1 = listings.columns.difference(listing_2.columns)\\n\\n# Find columns that are unique to df2\\nunique_to_df2 = listing_2.columns.difference(listings.columns)\\n\\n# Print columns that are not present in both DataFrames\\nprint(\"Columns unique to df1:\", list(unique_to_df1))\\nprint(\"Columns unique to df2:\", list(unique_to_df2))\\n'"
      ]
     },
     "execution_count": 7,
     "metadata": {},
     "output_type": "execute_result"
    }
   ],
   "source": [
    "'''\n",
    "# Find columns that are unique to df1\n",
    "unique_to_df1 = listings.columns.difference(listing_2.columns)\n",
    "\n",
    "# Find columns that are unique to df2\n",
    "unique_to_df2 = listing_2.columns.difference(listings.columns)\n",
    "\n",
    "# Print columns that are not present in both DataFrames\n",
    "print(\"Columns unique to df1:\", list(unique_to_df1))\n",
    "print(\"Columns unique to df2:\", list(unique_to_df2))\n",
    "'''"
   ]
  },
  {
   "cell_type": "code",
   "execution_count": 8,
   "metadata": {},
   "outputs": [
    {
     "data": {
      "text/plain": [
       "listing_id        7029\n",
       "date               366\n",
       "available            2\n",
       "price              920\n",
       "adjusted_price       0\n",
       "minimum_nights      68\n",
       "maximum_nights     103\n",
       "dtype: int64"
      ]
     },
     "execution_count": 8,
     "metadata": {},
     "output_type": "execute_result"
    }
   ],
   "source": [
    "calendar.nunique()"
   ]
  },
  {
   "cell_type": "code",
   "execution_count": 9,
   "metadata": {},
   "outputs": [],
   "source": [
    "#del neighbourhoods"
   ]
  },
  {
   "cell_type": "markdown",
   "metadata": {},
   "source": [
    "## Clean Data"
   ]
  },
  {
   "cell_type": "code",
   "execution_count": 96,
   "metadata": {},
   "outputs": [
    {
     "name": "stdout",
     "output_type": "stream",
     "text": [
      "<class 'pandas.core.frame.DataFrame'>\n",
      "RangeIndex: 7029 entries, 0 to 7028\n",
      "Data columns (total 56 columns):\n",
      " #   Column                                        Non-Null Count  Dtype         \n",
      "---  ------                                        --------------  -----         \n",
      " 0   id                                            7029 non-null   int64         \n",
      " 1   name                                          7029 non-null   object        \n",
      " 2   neighborhood_overview                         2131 non-null   object        \n",
      " 3   host_id                                       7029 non-null   int64         \n",
      " 4   host_name                                     7029 non-null   object        \n",
      " 5   host_since                                    7029 non-null   datetime64[ns]\n",
      " 6   host_location                                 4593 non-null   object        \n",
      " 7   host_about                                    4472 non-null   object        \n",
      " 8   host_response_time                            6302 non-null   category      \n",
      " 9   host_response_rate                            6302 non-null   float64       \n",
      " 10  host_acceptance_rate                          6478 non-null   float64       \n",
      " 11  host_is_superhost                             7013 non-null   category      \n",
      " 12  host_neighbourhood                            6586 non-null   object        \n",
      " 13  host_listings_count                           7029 non-null   int64         \n",
      " 14  host_total_listings_count                     7029 non-null   int64         \n",
      " 15  host_verifications                            7029 non-null   object        \n",
      " 16  host_has_profile_pic                          7029 non-null   category      \n",
      " 17  host_identity_verified                        7029 non-null   category      \n",
      " 18  neighbourhood                                 2131 non-null   object        \n",
      " 19  property_type                                 7029 non-null   object        \n",
      " 20  room_type                                     7029 non-null   category      \n",
      " 21  accommodates                                  7029 non-null   int64         \n",
      " 22  beds                                          6908 non-null   float64       \n",
      " 23  price                                         6552 non-null   float64       \n",
      " 24  minimum_nights                                7029 non-null   int64         \n",
      " 25  maximum_nights                                7029 non-null   int64         \n",
      " 26  minimum_minimum_nights                        7029 non-null   int64         \n",
      " 27  maximum_minimum_nights                        7029 non-null   int64         \n",
      " 28  minimum_maximum_nights                        7029 non-null   int64         \n",
      " 29  maximum_maximum_nights                        7029 non-null   int64         \n",
      " 30  minimum_nights_avg_ntm                        7029 non-null   float64       \n",
      " 31  maximum_nights_avg_ntm                        7029 non-null   float64       \n",
      " 32  has_availability                              6552 non-null   category      \n",
      " 33  availability_30                               7029 non-null   int64         \n",
      " 34  availability_60                               7029 non-null   int64         \n",
      " 35  availability_90                               7029 non-null   int64         \n",
      " 36  availability_365                              7029 non-null   int64         \n",
      " 37  number_of_reviews                             7029 non-null   int64         \n",
      " 38  number_of_reviews_ltm                         7029 non-null   int64         \n",
      " 39  number_of_reviews_l30d                        7029 non-null   int64         \n",
      " 40  first_review                                  3541 non-null   datetime64[ns]\n",
      " 41  last_review                                   3541 non-null   datetime64[ns]\n",
      " 42  review_scores_rating                          3542 non-null   float64       \n",
      " 43  review_scores_accuracy                        3541 non-null   float64       \n",
      " 44  review_scores_cleanliness                     3541 non-null   float64       \n",
      " 45  review_scores_checkin                         3541 non-null   float64       \n",
      " 46  review_scores_communication                   3540 non-null   float64       \n",
      " 47  review_scores_location                        3541 non-null   float64       \n",
      " 48  review_scores_value                           3541 non-null   float64       \n",
      " 49  instant_bookable                              7029 non-null   category      \n",
      " 50  calculated_host_listings_count                7029 non-null   int64         \n",
      " 51  calculated_host_listings_count_entire_homes   7029 non-null   int64         \n",
      " 52  calculated_host_listings_count_private_rooms  7029 non-null   int64         \n",
      " 53  calculated_host_listings_count_shared_rooms   7029 non-null   int64         \n",
      " 54  reviews_per_month                             3541 non-null   float64       \n",
      " 55  bathrooms                                     6956 non-null   float64       \n",
      "dtypes: category(7), datetime64[ns](3), float64(15), int64(22), object(9)\n",
      "memory usage: 2.7+ MB\n"
     ]
    }
   ],
   "source": [
    "listings.info()"
   ]
  },
  {
   "cell_type": "code",
   "execution_count": 11,
   "metadata": {},
   "outputs": [
    {
     "data": {
      "text/plain": [
       "0"
      ]
     },
     "execution_count": 11,
     "metadata": {},
     "output_type": "execute_result"
    }
   ],
   "source": [
    "listings.duplicated().sum()"
   ]
  },
  {
   "cell_type": "code",
   "execution_count": 12,
   "metadata": {},
   "outputs": [
    {
     "data": {
      "text/plain": [
       "id                                                 0\n",
       "name                                               0\n",
       "description                                     7029\n",
       "neighborhood_overview                           4898\n",
       "host_id                                            0\n",
       "host_name                                          0\n",
       "host_since                                         0\n",
       "host_location                                   2436\n",
       "host_about                                      2557\n",
       "host_response_time                               727\n",
       "host_response_rate                               727\n",
       "host_acceptance_rate                             551\n",
       "host_is_superhost                                 16\n",
       "host_neighbourhood                               443\n",
       "host_listings_count                                0\n",
       "host_total_listings_count                          0\n",
       "host_verifications                                 0\n",
       "host_has_profile_pic                               0\n",
       "host_identity_verified                             0\n",
       "neighbourhood                                   4898\n",
       "property_type                                      0\n",
       "room_type                                          0\n",
       "accommodates                                       0\n",
       "bathrooms_text                                    17\n",
       "bedrooms                                        7029\n",
       "beds                                             121\n",
       "price                                            477\n",
       "minimum_nights                                     0\n",
       "maximum_nights                                     0\n",
       "minimum_minimum_nights                             0\n",
       "maximum_minimum_nights                             0\n",
       "minimum_maximum_nights                             0\n",
       "maximum_maximum_nights                             0\n",
       "minimum_nights_avg_ntm                             0\n",
       "maximum_nights_avg_ntm                             0\n",
       "has_availability                                 477\n",
       "availability_30                                    0\n",
       "availability_60                                    0\n",
       "availability_90                                    0\n",
       "availability_365                                   0\n",
       "number_of_reviews                                  0\n",
       "number_of_reviews_ltm                              0\n",
       "number_of_reviews_l30d                             0\n",
       "first_review                                    3488\n",
       "last_review                                     3488\n",
       "review_scores_rating                            3487\n",
       "review_scores_accuracy                          3488\n",
       "review_scores_cleanliness                       3488\n",
       "review_scores_checkin                           3488\n",
       "review_scores_communication                     3489\n",
       "review_scores_location                          3488\n",
       "review_scores_value                             3488\n",
       "license                                         7029\n",
       "instant_bookable                                   0\n",
       "calculated_host_listings_count                     0\n",
       "calculated_host_listings_count_entire_homes        0\n",
       "calculated_host_listings_count_private_rooms       0\n",
       "calculated_host_listings_count_shared_rooms        0\n",
       "reviews_per_month                               3488\n",
       "dtype: int64"
      ]
     },
     "execution_count": 12,
     "metadata": {},
     "output_type": "execute_result"
    }
   ],
   "source": [
    "listings.isnull().sum()#drop description & bedrooms & license, neighborhood overview & host about turn binomial, "
   ]
  },
  {
   "cell_type": "code",
   "execution_count": 13,
   "metadata": {},
   "outputs": [
    {
     "data": {
      "text/plain": [
       "0"
      ]
     },
     "execution_count": 13,
     "metadata": {},
     "output_type": "execute_result"
    }
   ],
   "source": [
    "listings.isnull().all(axis = 1).sum()"
   ]
  },
  {
   "cell_type": "code",
   "execution_count": 15,
   "metadata": {},
   "outputs": [],
   "source": [
    "listings = listings.drop(columns= ['description', 'bedrooms', 'license'])"
   ]
  },
  {
   "cell_type": "code",
   "execution_count": 16,
   "metadata": {},
   "outputs": [],
   "source": [
    "#listings.drop(['description', 'bedrooms', 'license'], axis=1)"
   ]
  },
  {
   "cell_type": "code",
   "execution_count": 17,
   "metadata": {},
   "outputs": [],
   "source": [
    "columms_to_date = listings[['host_since', 'first_review', 'last_review']]\n",
    "listings[['host_since', 'first_review', 'last_review']] = listings[['host_since', 'first_review', 'last_review']].apply(pd.to_datetime)"
   ]
  },
  {
   "cell_type": "code",
   "execution_count": 72,
   "metadata": {},
   "outputs": [],
   "source": [
    "columns_to_categorical = ['host_is_superhost','host_has_profile_pic','host_identity_verified','has_availability', 'instant_bookable','host_response_time','room_type' ]\n",
    "listings[columns_to_categorical] = listings[columns_to_categorical].astype('category')"
   ]
  },
  {
   "cell_type": "code",
   "execution_count": 28,
   "metadata": {},
   "outputs": [],
   "source": [
    "listings['bathrooms'] = listings['bathrooms_text'].str.extract(r'(\\d+(?:\\.\\d+)?)')"
   ]
  },
  {
   "cell_type": "code",
   "execution_count": 29,
   "metadata": {},
   "outputs": [],
   "source": [
    "del listings['bathrooms_text']"
   ]
  },
  {
   "cell_type": "code",
   "execution_count": 45,
   "metadata": {},
   "outputs": [
    {
     "data": {
      "text/plain": [
       "array([nan, '482.00', '1475.00', ..., '1883.00', '1654.00', '126.00'],\n",
       "      dtype=object)"
      ]
     },
     "execution_count": 45,
     "metadata": {},
     "output_type": "execute_result"
    }
   ],
   "source": [
    "listings['price'].unique()"
   ]
  },
  {
   "cell_type": "code",
   "execution_count": 52,
   "metadata": {},
   "outputs": [
    {
     "name": "stderr",
     "output_type": "stream",
     "text": [
      "/var/folders/y5/yrmbbwsx3sg3l8fv0bd8kxm80000gn/T/ipykernel_43260/101578773.py:1: FutureWarning: The default value of regex will change from True to False in a future version. In addition, single character regular expressions will *not* be treated as literal strings when regex=True.\n",
      "  listings['price'] = listings['price'].str.replace('$','').str.replace(',','')\n"
     ]
    }
   ],
   "source": [
    "listings['price'] = listings['price'].str.replace('$','').str.replace(',','')\n",
    "columns_to_int = ['price','bathrooms']\n",
    "listings[columns_to_int] = listings[columns_to_int].astype('float')"
   ]
  },
  {
   "cell_type": "code",
   "execution_count": 71,
   "metadata": {},
   "outputs": [
    {
     "name": "stdout",
     "output_type": "stream",
     "text": [
      "[nan 'within an hour' 'a few days or more' 'within a few hours'\n",
      " 'within a day']\n",
      "['Entire home/apt' 'Private room' 'Shared room' 'Hotel room']\n"
     ]
    }
   ],
   "source": [
    "print(listings['host_response_time'].unique())\n",
    "print(listings['room_type'].unique())"
   ]
  },
  {
   "cell_type": "code",
   "execution_count": 75,
   "metadata": {},
   "outputs": [],
   "source": [
    "percentage_columns = ['host_response_rate', 'host_acceptance_rate']\n",
    "listings[percentage_columns] = listings[percentage_columns].replace('%', '', regex=True).astype('float')/100"
   ]
  }
 ],
 "metadata": {
  "kernelspec": {
   "display_name": "Python 3",
   "language": "python",
   "name": "python3"
  },
  "language_info": {
   "codemirror_mode": {
    "name": "ipython",
    "version": 3
   },
   "file_extension": ".py",
   "mimetype": "text/x-python",
   "name": "python",
   "nbconvert_exporter": "python",
   "pygments_lexer": "ipython3",
   "version": "3.10.11"
  }
 },
 "nbformat": 4,
 "nbformat_minor": 2
}
